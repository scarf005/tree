{
 "cells": [
  {
   "cell_type": "code",
   "execution_count": 11,
   "metadata": {
    "collapsed": true
   },
   "outputs": [
    {
     "name": "stderr",
     "output_type": "stream",
     "text": [
      "Line_12.jupyter-kts (3:8 - 12) Unresolved reference: Node"
     ]
    }
   ],
   "source": [
    "import Node"
   ]
  },
  {
   "cell_type": "code",
   "execution_count": 12,
   "outputs": [
    {
     "name": "stderr",
     "output_type": "stream",
     "text": [
      "Line_13.jupyter-kts (3:12 - 16) Interface Node does not have constructors\n",
      "Line_13.jupyter-kts (3:20 - 24) Interface Node does not have constructors\n",
      "Line_13.jupyter-kts (3:29 - 33) Interface Node does not have constructors\n",
      "Line_13.jupyter-kts (3:37 - 41) Interface Node does not have constructors"
     ]
    }
   ],
   "source": [
    "val node = Node(3, Node(1), Node(6, Node(5)))"
   ],
   "metadata": {
    "collapsed": false
   }
  },
  {
   "cell_type": "code",
   "execution_count": 13,
   "outputs": [
    {
     "name": "stderr",
     "output_type": "stream",
     "text": [
      "Line_14.jupyter-kts (3:1 - 5) Unresolved reference: node"
     ]
    }
   ],
   "source": [
    "node"
   ],
   "metadata": {
    "collapsed": false
   }
  },
  {
   "cell_type": "code",
   "execution_count": null,
   "outputs": [],
   "source": [],
   "metadata": {
    "collapsed": false
   }
  }
 ],
 "metadata": {
  "kernelspec": {
   "display_name": "Kotlin",
   "language": "kotlin",
   "name": "kotlin"
  },
  "language_info": {
   "name": "kotlin",
   "version": "1.8.0-dev-3517",
   "mimetype": "text/x-kotlin",
   "file_extension": ".kt",
   "pygments_lexer": "kotlin",
   "codemirror_mode": "text/x-kotlin",
   "nbconvert_exporter": ""
  }
 },
 "nbformat": 4,
 "nbformat_minor": 0
}
